{
 "cells": [
  {
   "cell_type": "code",
   "execution_count": null,
   "metadata": {
    "scrolled": true
   },
   "outputs": [],
   "source": [
    "import tushare  as ts\n",
    "import pandas as pd\n",
    "import numpy as np \n",
    "from pylab import mpl\n",
    " \n",
    "mpl.rcParams['font.sans-serif']=['SimHei']\n",
    "mpl.rcParams['axes.unicode_minus']=False\n",
    "\n",
    "\n",
    "def getIndustryCodeDayInfo(keyIndustry,startT,endT,keyValue=['open','high','close','low','volume','price_change','p_change','ma5','ma10','ma20','v_ma5','v_ma10','v_ma20']):\n",
    "    industryPrice = pd.DataFrame()#最终结果\n",
    "    \n",
    "    df1 = ts.get_industry_classified()#获取所有股票行业分类信息\n",
    "    industryList = set(df1['c_name'])\n",
    "    print('行业分类：',list(industryList))\n",
    "    df2 = df1[df1['c_name']==keyIndustry]#提取目标行业的股票名称及代码信息\n",
    "    stock_code = set(df2.code)\n",
    "    print(keyIndustry,'企业数：',len(stock_code))\n",
    "    print(set(df2.name))\n",
    "    \n",
    "    for id in stock_code:\n",
    "        df3 = ts.get_hist_data(id,start=startT,end=endT)#提取目标行业的股票代码在指定时间段的每日股票开盘、收盘、最高、最低等信息\n",
    " \n",
    "        if isinstance(df3, pd.DataFrame):#判断类型是否为dataframe\n",
    "            df4 = df3.loc[:, keyValue]#提取目标行业的股票代码在指定时间段的每日股票的收盘价和5日移动平均\n",
    "            df4.loc[: , 'code'] = id #添加股票代码这一列\n",
    "            industryPrice = industryPrice.append(df4)#所有目标行业股票信息按行合并\n",
    "            \n",
    "        else:\n",
    "            df0 = df1[df1['code']==id]\n",
    "            print(df0)\n",
    "            pass\n",
    "        \n",
    "        \n",
    "    return industryPrice\n"
   ]
  },
  {
   "cell_type": "code",
   "execution_count": null,
   "metadata": {
    "scrolled": true
   },
   "outputs": [],
   "source": [
    "indList = ['有色金属', '造纸行业', '供水供气', '发电设备', '交通运输', '酒店旅游', '电子器件', '生物制药', '公路桥梁', '次新股', '塑料制品', '玻璃行业', '印刷包装', '农药化肥', '船舶制造', '水泥行业', '钢铁行业', '家电行业', '物资外贸', '开发区', '服装鞋类', '电器行业', '化工行业', '农林牧渔', '飞机制造', '纺织行业', '纺织机械', '陶瓷行业', '商业百货', '煤炭行业', '食品行业', '综合行业', '金融行业', '医疗器械', '仪器仪表', '其它行业', '环保行业', '传媒娱乐', '汽车制造', '房地产', '电子信息', '建筑建材', '化纤行业', '电力行业', '家具行业', '机械行业', '酿酒行业', '摩托车', '石油行业']\n",
    "keyIndustry = '电子信息'#'酿酒行业'#'房地产'#'金融行业'# \n",
    "keyValue = ['close','ma5']\n",
    "startTime = '2015-01-01'\n",
    "endTime = '2020-03-27'\n",
    "res = getIndustryCodeDayInfo(keyIndustry,startTime,endTime,keyValue)\n",
    "#res.to_csv(keyIndustry+'#'+startTime+'#'+endTime+'.csv',index=False) #结果数据保存\n",
    "#print(len(set(res.code)))\n",
    "#print(res.head())\n"
   ]
  },
  {
   "cell_type": "code",
   "execution_count": null,
   "metadata": {
    "scrolled": true
   },
   "outputs": [],
   "source": []
  },
  {
   "cell_type": "code",
   "execution_count": null,
   "metadata": {
    "scrolled": true
   },
   "outputs": [],
   "source": [
    "#获取即时新闻\n",
    "ts.get_latest_news() #默认获取最近80条新闻数据，只提供新闻类型、链接和标题\n",
    "#ts.get_latest_news(top=5,show_content=True) #显示最新5条新闻，并打印出新闻内容"
   ]
  },
  {
   "cell_type": "code",
   "execution_count": null,
   "metadata": {
    "scrolled": true
   },
   "outputs": [],
   "source": [
    "#获取信息地雷\n",
    "ts.get_notices()\n"
   ]
  },
  {
   "cell_type": "code",
   "execution_count": null,
   "metadata": {
    "scrolled": true
   },
   "outputs": [],
   "source": [
    "#新浪股吧\n",
    "ts.guba_sina().sort_values(['ptime', 'rcounts'], ascending=False).head()\n",
    "#进一步查看新浪股吧内容\n",
    "#df = ts.guba_sina(True)\n",
    "#print (df.loc[3]['content']) #第3条消息的内容\n"
   ]
  },
  {
   "cell_type": "code",
   "execution_count": null,
   "metadata": {
    "scrolled": true
   },
   "outputs": [],
   "source": [
    "#概念板块\n",
    "concept=ts.get_concept_classified()\n",
    "conceptList = set(concept['c_name'])\n",
    "print(conceptList)"
   ]
  },
  {
   "cell_type": "code",
   "execution_count": null,
   "metadata": {
    "scrolled": true
   },
   "outputs": [],
   "source": []
  },
  {
   "cell_type": "code",
   "execution_count": null,
   "metadata": {
    "scrolled": false
   },
   "outputs": [],
   "source": [
    "#查询当前所有正常上市交易的股票列表\n",
    "#旧接口代码 ts.get_stock_basics()\n",
    "\n",
    "pro = ts.pro_api('13a7e09f81da39a2c1a86550a0daa6595ceda1a95100bd4d0adfe228')\n",
    "data = pro.stock_basic(exchange='', list_status='L', fields='ts_code,symbol,name,area,industry,list_date')\n",
    "data"
   ]
  },
  {
   "cell_type": "code",
   "execution_count": null,
   "metadata": {
    "scrolled": true
   },
   "outputs": [],
   "source": [
    "#主营业务构成\n",
    "pro = ts.pro_api('13a7e09f81da39a2c1a86550a0daa6595ceda1a95100bd4d0adfe228')\n",
    "df = pro.fina_mainbz_vip(period='20181231', type='P' ,fields='ts_code,end_date,bz_item,bz_sales')\n",
    "df = pro.fina_mainbz(ts_code='000627.SZ', type='P')"
   ]
  },
  {
   "cell_type": "code",
   "execution_count": null,
   "metadata": {
    "scrolled": true
   },
   "outputs": [],
   "source": [
    "#获取2019年第4季度的业绩报表数据\n",
    "ts.get_report_data(2019,4).head()\n",
    "\n",
    "#esp,每股收益\n",
    "#eps_yoy,每股收益同比(%)\n",
    "#bvps,每股净资产\n",
    "#roe,净资产收益率(%)\n",
    "#epcf,每股现金流量(元)\n",
    "#net_profits,净利润(万元)\n",
    "#profits_yoy,净利润同比(%)\n",
    "#distrib,分配方案\n",
    "#report_date,发布日期"
   ]
  },
  {
   "cell_type": "code",
   "execution_count": null,
   "metadata": {
    "scrolled": true
   },
   "outputs": [],
   "source": [
    "#获取2019年第4季度的盈利能力数据\n",
    "ts.get_profit_data(2019,4).head()\n",
    "\n",
    "#roe,净资产收益率(%)\n",
    "#net_profit_ratio,净利率(%)\n",
    "#gross_profit_rate,毛利率(%)\n",
    "#net_profits,净利润(万元)\n",
    "#esp,每股收益\n",
    "#business_income,营业收入(百万元)\n",
    "#bips,每股主营业务收入(元)"
   ]
  },
  {
   "cell_type": "code",
   "execution_count": null,
   "metadata": {
    "scrolled": true
   },
   "outputs": [],
   "source": [
    "#获取2019年第4季度的营运能力数据\n",
    "ts.get_operation_data(2019,4).head()\n",
    "\n",
    "#arturnover,应收账款周转率(次)\n",
    "#arturndays,应收账款周转天数(天)\n",
    "#inventory_turnover,存货周转率(次)\n",
    "#inventory_days,存货周转天数(天)\n",
    "#currentasset_turnover,流动资产周转率(次)\n",
    "#currentasset_days,流动资产周转天数(天)"
   ]
  },
  {
   "cell_type": "code",
   "execution_count": null,
   "metadata": {
    "scrolled": true
   },
   "outputs": [],
   "source": [
    "#获取2019年第4季度的成长能力数据\n",
    "ts.get_growth_data(2019,4).head()\n",
    "\n",
    "#mbrg,主营业务收入增长率(%)\n",
    "#nprg,净利润增长率(%)\n",
    "#nav,净资产增长率\n",
    "#targ,总资产增长率\n",
    "#epsg,每股收益增长率\n",
    "#seg,股东权益增长率"
   ]
  },
  {
   "cell_type": "code",
   "execution_count": null,
   "metadata": {
    "scrolled": true
   },
   "outputs": [],
   "source": [
    "#获取2019年第4季度的偿债能力数据\n",
    "ts.get_debtpaying_data(2019,4).head()\n",
    "\n",
    "#currentratio,流动比率\n",
    "#quickratio,速动比率\n",
    "#cashratio,现金比率\n",
    "#icratio,利息支付倍数\n",
    "#sheqratio,股东权益比率\n",
    "#adratio,股东权益增长率"
   ]
  },
  {
   "cell_type": "code",
   "execution_count": null,
   "metadata": {
    "scrolled": true
   },
   "outputs": [],
   "source": [
    "#获取2019年第4季度的现金流量数据\n",
    "ts.get_cashflow_data(2019,4).head()\n",
    "\n",
    "#cf_sales,经营现金净流量对销售收入比率\n",
    "#rateofreturn,资产的经营现金流量回报率\n",
    "#cf_nm,经营现金净流量与净利润的比率\n",
    "#cf_liabilities,经营现金净流量对负债比率\n",
    "#cashflowratio,现金流量比率"
   ]
  },
  {
   "cell_type": "code",
   "execution_count": null,
   "metadata": {
    "scrolled": true
   },
   "outputs": [],
   "source": []
  },
  {
   "cell_type": "code",
   "execution_count": null,
   "metadata": {
    "scrolled": true
   },
   "outputs": [],
   "source": [
    "#沪深300\n",
    "hs=ts.get_hs300s()\n",
    "hs.head(10)"
   ]
  },
  {
   "cell_type": "code",
   "execution_count": null,
   "metadata": {
    "scrolled": true
   },
   "outputs": [],
   "source": []
  },
  {
   "cell_type": "code",
   "execution_count": null,
   "metadata": {
    "scrolled": true
   },
   "outputs": [],
   "source": [
    "#获取实时数据\n",
    "ts.get_today_all().head()\n"
   ]
  },
  {
   "cell_type": "code",
   "execution_count": null,
   "metadata": {
    "scrolled": true
   },
   "outputs": [],
   "source": [
    "#获取指定股票的大单数据\n",
    "big_deal = ts.get_sina_dd('600848', date='2020-03-27', vol=500)  #指定大于等于500手的数据\n",
    "big_deal"
   ]
  },
  {
   "cell_type": "code",
   "execution_count": null,
   "metadata": {
    "scrolled": true
   },
   "outputs": [],
   "source": [
    "#机构席位追踪\n",
    "\n",
    "#days：统计周期5、10、30和60日，默认为5日\n",
    "#retry_count：当网络异常后重试次数，默认为3\n",
    "#pause:重试时停顿秒数，默认为0\n",
    "\n",
    "#code:代码\n",
    "#name:名称\n",
    "#bamount:累积买入额(万)\n",
    "#bcount:买入次数\n",
    "#samount:累积卖出额(万)\n",
    "#scount:卖出次数\n",
    "#net:净额(万)\n",
    "\n",
    "ts.inst_tops().sort_values('bamount', ascending=False).head()"
   ]
  },
  {
   "cell_type": "code",
   "execution_count": null,
   "metadata": {
    "scrolled": true
   },
   "outputs": [],
   "source": [
    "#机构成交明细\n",
    "ts.inst_detail().head()"
   ]
  },
  {
   "cell_type": "code",
   "execution_count": null,
   "metadata": {
    "scrolled": true
   },
   "outputs": [],
   "source": []
  },
  {
   "cell_type": "code",
   "execution_count": null,
   "metadata": {
    "scrolled": true
   },
   "outputs": [],
   "source": []
  },
  {
   "cell_type": "code",
   "execution_count": null,
   "metadata": {
    "scrolled": true
   },
   "outputs": [],
   "source": [
    "#调试代码\n",
    "\n",
    "indList = ['有色金属', '造纸行业', '供水供气', '发电设备', '交通运输', '酒店旅游', '电子器件', '生物制药', '公路桥梁', '次新股', '塑料制品', '玻璃行业', '印刷包装', '农药化肥', '船舶制造', '水泥行业', '钢铁行业', '家电行业', '物资外贸', '开发区', '服装鞋类', '电器行业', '化工行业', '农林牧渔', '飞机制造', '纺织行业', '纺织机械', '陶瓷行业', '商业百货', '煤炭行业', '食品行业', '综合行业', '金融行业', '医疗器械', '仪器仪表', '其它行业', '环保行业', '传媒娱乐', '汽车制造', '房地产', '电子信息', '建筑建材', '化纤行业', '电力行业', '家具行业', '机械行业', '酿酒行业', '摩托车', '石油行业']\n",
    "keyIndustry = '环保行业'#'酿酒行业'#'房地产'#'金融行业'# \n",
    "keyValue = ['close','ma5']\n",
    "startT = '2015-01-01'\n",
    "endT = '2020-03-27'\n",
    "\n",
    "industryPrice = pd.DataFrame()\n",
    "df1 = ts.get_industry_classified()\n",
    "industryList = set(df1['c_name'])\n",
    "print('行业分类：',list(industryList))\n",
    "df2 = df1[df1['c_name']==keyIndustry]#提取目标行业的股票名称及代码信息\n",
    "stock_code = set(df2.code)\n",
    "print(keyIndustry,'企业数：',len(stock_code))\n",
    "print(set(df2.name)) \n",
    "for id in stock_code:\n",
    "    df3 = ts.get_hist_data(id,start=startT,end=endT)\n",
    "\n",
    "    if isinstance(df3, pd.DataFrame):#判断类型是否为dataframe\n",
    "        df4 = df3.loc[:, keyValue]#提取目标行业的股票代码在指定时间段的每日股票的收盘价和5日移动平均\n",
    "        df4.loc[: , 'code'] = id #添加股票代码这一列\n",
    "        industryPrice = industryPrice.append(df4)#所有目标行业股票信息按            \n",
    "    else:\n",
    "        df0 = df1[df1['code']==id]\n",
    "        print(df0)\n",
    "        pass"
   ]
  },
  {
   "cell_type": "code",
   "execution_count": null,
   "metadata": {
    "scrolled": true
   },
   "outputs": [],
   "source": []
  }
 ],
 "metadata": {
  "kernelspec": {
   "display_name": "Python 3",
   "language": "python",
   "name": "python3"
  },
  "language_info": {
   "codemirror_mode": {
    "name": "ipython",
    "version": 3
   },
   "file_extension": ".py",
   "mimetype": "text/x-python",
   "name": "python",
   "nbconvert_exporter": "python",
   "pygments_lexer": "ipython3",
   "version": "3.7.3"
  }
 },
 "nbformat": 4,
 "nbformat_minor": 2
}
