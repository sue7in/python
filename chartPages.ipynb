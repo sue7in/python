{
 "cells": [
  {
   "cell_type": "code",
   "execution_count": 1,
   "metadata": {},
   "outputs": [],
   "source": [
    "from pyecharts.globals import ThemeType\n",
    "from pyecharts.faker import Faker\n",
    "from pyecharts import options as opts\n",
    "from pyecharts.charts import Bar, Grid, Line, Page, Pie"
   ]
  },
  {
   "cell_type": "code",
   "execution_count": 4,
   "metadata": {},
   "outputs": [
    {
     "data": {
      "text/plain": [
       "'/Users/sue7in/PycharmProjects/Python/charts/render.html'"
      ]
     },
     "execution_count": 4,
     "metadata": {},
     "output_type": "execute_result"
    }
   ],
   "source": [
    "bar1=Bar(init_opts=opts.InitOpts(theme=ThemeType.PURPLE_PASSION))\n",
    "bar1.add_xaxis(['comments_count','reporst_count','attitudes-count'])\n",
    "bar1.add_yaxis('韩寒',[1265,495,3931])\n",
    "bar1.add_yaxis('蔡徐坤',[42,159,202])\n",
    "bar1.set_global_opts(title_opts=opts.TitleOpts(title='转发反馈统计'),toolbox_opts=opts.ToolboxOpts())\n",
    "\n",
    "bar2=Bar(init_opts=opts.InitOpts(theme=ThemeType.PURPLE_PASSION))\n",
    "bar2.add_xaxis(['repost'])\n",
    "bar2.add_yaxis('韩寒',[32585])\n",
    "bar2.add_yaxis('蔡徐坤',[22630])\n",
    "bar2.set_global_opts(title_opts=opts.TitleOpts(title='商场销售情况'),toolbox_opts=opts.ToolboxOpts())\n",
    "\n",
    "page = Page(layout=Page.DraggablePageLayout)\n",
    "page.add(bar1,bar2)\n",
    "page.render()"
   ]
  },
  {
   "cell_type": "code",
   "execution_count": 5,
   "metadata": {},
   "outputs": [
    {
     "data": {
      "text/plain": [
       "'<!DOCTYPE html>\\n<html>\\n<head>\\n    <meta charset=\"UTF-8\">\\n    <title>Awesome-pyecharts</title>\\n            <script type=\"text/javascript\" src=\"https://assets.pyecharts.org/assets/echarts.min.js\"></script>\\n        <script type=\"text/javascript\" src=\"https://assets.pyecharts.org/assets/themes/purple-passion.js\"></script>\\n        <script type=\"text/javascript\" src=\"https://assets.pyecharts.org/assets/jquery.min.js\"></script>\\n        <script type=\"text/javascript\" src=\"https://assets.pyecharts.org/assets/jquery-ui.min.js\"></script>\\n        <script type=\"text/javascript\" src=\"https://assets.pyecharts.org/assets/ResizeSensor.js\"></script>\\n\\n            <link rel=\"stylesheet\"  href=\"https://assets.pyecharts.org/assets/jquery-ui.css\">\\n\\n</head>\\n<body>\\n    <style>.box {  }; </style>\\n        \\n    <div class=\"box\">\\n                <div id=\"02b8e981d79d4927a79ccc8ef77e7e5a\" class=\"chart-container\" style=\"width:900px; height:500px;\"></div>\\n    <script>\\n        var chart_02b8e981d79d4927a79ccc8ef77e7e5a = echarts.init(\\n            document.getElementById(\\'02b8e981d79d4927a79ccc8ef77e7e5a\\'), \\'purple-passion\\', {renderer: \\'canvas\\'});\\n        var option_02b8e981d79d4927a79ccc8ef77e7e5a = {\\n    \"animation\": true,\\n    \"animationThreshold\": 2000,\\n    \"animationDuration\": 1000,\\n    \"animationEasing\": \"cubicOut\",\\n    \"animationDelay\": 0,\\n    \"animationDurationUpdate\": 300,\\n    \"animationEasingUpdate\": \"cubicOut\",\\n    \"animationDelayUpdate\": 0,\\n    \"series\": [\\n        {\\n            \"type\": \"bar\",\\n            \"name\": \"\\\\u97e9\\\\u5bd2\",\\n            \"data\": [\\n                1265,\\n                495,\\n                3931\\n            ],\\n            \"barCategoryGap\": \"20%\",\\n            \"label\": {\\n                \"show\": true,\\n                \"position\": \"top\",\\n                \"margin\": 8\\n            }\\n        },\\n        {\\n            \"type\": \"bar\",\\n            \"name\": \"\\\\u8521\\\\u5f90\\\\u5764\",\\n            \"data\": [\\n                42,\\n                159,\\n                202\\n            ],\\n            \"barCategoryGap\": \"20%\",\\n            \"label\": {\\n                \"show\": true,\\n                \"position\": \"top\",\\n                \"margin\": 8\\n            }\\n        }\\n    ],\\n    \"legend\": [\\n        {\\n            \"data\": [\\n                \"\\\\u97e9\\\\u5bd2\",\\n                \"\\\\u8521\\\\u5f90\\\\u5764\"\\n            ],\\n            \"selected\": {\\n                \"\\\\u97e9\\\\u5bd2\": true,\\n                \"\\\\u8521\\\\u5f90\\\\u5764\": true\\n            },\\n            \"show\": true,\\n            \"padding\": 5,\\n            \"itemGap\": 10,\\n            \"itemWidth\": 25,\\n            \"itemHeight\": 14\\n        }\\n    ],\\n    \"tooltip\": {\\n        \"show\": true,\\n        \"trigger\": \"item\",\\n        \"triggerOn\": \"mousemove|click\",\\n        \"axisPointer\": {\\n            \"type\": \"line\"\\n        },\\n        \"textStyle\": {\\n            \"fontSize\": 14\\n        },\\n        \"borderWidth\": 0\\n    },\\n    \"xAxis\": [\\n        {\\n            \"show\": true,\\n            \"scale\": false,\\n            \"nameLocation\": \"end\",\\n            \"nameGap\": 15,\\n            \"gridIndex\": 0,\\n            \"inverse\": false,\\n            \"offset\": 0,\\n            \"splitNumber\": 5,\\n            \"minInterval\": 0,\\n            \"splitLine\": {\\n                \"show\": false,\\n                \"lineStyle\": {\\n                    \"show\": true,\\n                    \"width\": 1,\\n                    \"opacity\": 1,\\n                    \"curveness\": 0,\\n                    \"type\": \"solid\"\\n                }\\n            },\\n            \"data\": [\\n                \"comments_count\",\\n                \"reporst_count\",\\n                \"attitudes-count\"\\n            ]\\n        }\\n    ],\\n    \"yAxis\": [\\n        {\\n            \"show\": true,\\n            \"scale\": false,\\n            \"nameLocation\": \"end\",\\n            \"nameGap\": 15,\\n            \"gridIndex\": 0,\\n            \"inverse\": false,\\n            \"offset\": 0,\\n            \"splitNumber\": 5,\\n            \"minInterval\": 0,\\n            \"splitLine\": {\\n                \"show\": false,\\n                \"lineStyle\": {\\n                    \"show\": true,\\n                    \"width\": 1,\\n                    \"opacity\": 1,\\n                    \"curveness\": 0,\\n                    \"type\": \"solid\"\\n                }\\n            }\\n        }\\n    ],\\n    \"title\": [\\n        {\\n            \"text\": \"\\\\u8f6c\\\\u53d1\\\\u53cd\\\\u9988\\\\u7edf\\\\u8ba1\",\\n            \"padding\": 5,\\n            \"itemGap\": 10\\n        }\\n    ],\\n    \"toolbox\": {\\n        \"show\": true,\\n        \"orient\": \"horizontal\",\\n        \"itemSize\": 15,\\n        \"itemGap\": 10,\\n        \"left\": \"80%\",\\n        \"feature\": {\\n            \"saveAsImage\": {\\n                \"type\": \"png\",\\n                \"backgroundColor\": \"auto\",\\n                \"connectedBackgroundColor\": \"#fff\",\\n                \"show\": true,\\n                \"title\": \"\\\\u4fdd\\\\u5b58\\\\u4e3a\\\\u56fe\\\\u7247\",\\n                \"pixelRatio\": 1\\n            },\\n            \"restore\": {\\n                \"show\": true,\\n                \"title\": \"\\\\u8fd8\\\\u539f\"\\n            },\\n            \"dataView\": {\\n                \"show\": true,\\n                \"title\": \"\\\\u6570\\\\u636e\\\\u89c6\\\\u56fe\",\\n                \"readOnly\": false,\\n                \"lang\": [\\n                    \"\\\\u6570\\\\u636e\\\\u89c6\\\\u56fe\",\\n                    \"\\\\u5173\\\\u95ed\",\\n                    \"\\\\u5237\\\\u65b0\"\\n                ],\\n                \"backgroundColor\": \"#fff\",\\n                \"textareaColor\": \"#fff\",\\n                \"textareaBorderColor\": \"#333\",\\n                \"textColor\": \"#000\",\\n                \"buttonColor\": \"#c23531\",\\n                \"buttonTextColor\": \"#fff\"\\n            },\\n            \"dataZoom\": {\\n                \"show\": true,\\n                \"title\": {\\n                    \"zoom\": \"\\\\u533a\\\\u57df\\\\u7f29\\\\u653e\",\\n                    \"back\": \"\\\\u533a\\\\u57df\\\\u7f29\\\\u653e\\\\u8fd8\\\\u539f\"\\n                },\\n                \"icon\": {}\\n            },\\n            \"magicType\": {\\n                \"show\": true,\\n                \"type\": [\\n                    \"line\",\\n                    \"bar\",\\n                    \"stack\",\\n                    \"tiled\"\\n                ],\\n                \"title\": {\\n                    \"line\": \"\\\\u5207\\\\u6362\\\\u4e3a\\\\u6298\\\\u7ebf\\\\u56fe\",\\n                    \"bar\": \"\\\\u5207\\\\u6362\\\\u4e3a\\\\u67f1\\\\u72b6\\\\u56fe\",\\n                    \"stack\": \"\\\\u5207\\\\u6362\\\\u4e3a\\\\u5806\\\\u53e0\",\\n                    \"tiled\": \"\\\\u5207\\\\u6362\\\\u4e3a\\\\u5e73\\\\u94fa\"\\n                },\\n                \"icon\": {}\\n            },\\n            \"brush\": {\\n                \"icon\": {},\\n                \"title\": {\\n                    \"rect\": \"\\\\u77e9\\\\u5f62\\\\u9009\\\\u62e9\",\\n                    \"polygon\": \"\\\\u5708\\\\u9009\",\\n                    \"lineX\": \"\\\\u6a2a\\\\u5411\\\\u9009\\\\u62e9\",\\n                    \"lineY\": \"\\\\u7eb5\\\\u5411\\\\u9009\\\\u62e9\",\\n                    \"keep\": \"\\\\u4fdd\\\\u6301\\\\u9009\\\\u62e9\",\\n                    \"clear\": \"\\\\u6e05\\\\u9664\\\\u9009\\\\u62e9\"\\n                }\\n            }\\n        }\\n    }\\n};\\n        chart_02b8e981d79d4927a79ccc8ef77e7e5a.setOption(option_02b8e981d79d4927a79ccc8ef77e7e5a);\\n    </script>\\n<br/>                <div id=\"6736942f5a83422095444085a4ca71a5\" class=\"chart-container\" style=\"width:900px; height:500px;\"></div>\\n    <script>\\n        var chart_6736942f5a83422095444085a4ca71a5 = echarts.init(\\n            document.getElementById(\\'6736942f5a83422095444085a4ca71a5\\'), \\'purple-passion\\', {renderer: \\'canvas\\'});\\n        var option_6736942f5a83422095444085a4ca71a5 = {\\n    \"animation\": true,\\n    \"animationThreshold\": 2000,\\n    \"animationDuration\": 1000,\\n    \"animationEasing\": \"cubicOut\",\\n    \"animationDelay\": 0,\\n    \"animationDurationUpdate\": 300,\\n    \"animationEasingUpdate\": \"cubicOut\",\\n    \"animationDelayUpdate\": 0,\\n    \"series\": [\\n        {\\n            \"type\": \"bar\",\\n            \"name\": \"\\\\u97e9\\\\u5bd2\",\\n            \"data\": [\\n                32585\\n            ],\\n            \"barCategoryGap\": \"20%\",\\n            \"label\": {\\n                \"show\": true,\\n                \"position\": \"top\",\\n                \"margin\": 8\\n            }\\n        },\\n        {\\n            \"type\": \"bar\",\\n            \"name\": \"\\\\u8521\\\\u5f90\\\\u5764\",\\n            \"data\": [\\n                22630\\n            ],\\n            \"barCategoryGap\": \"20%\",\\n            \"label\": {\\n                \"show\": true,\\n                \"position\": \"top\",\\n                \"margin\": 8\\n            }\\n        }\\n    ],\\n    \"legend\": [\\n        {\\n            \"data\": [\\n                \"\\\\u97e9\\\\u5bd2\",\\n                \"\\\\u8521\\\\u5f90\\\\u5764\"\\n            ],\\n            \"selected\": {\\n                \"\\\\u97e9\\\\u5bd2\": true,\\n                \"\\\\u8521\\\\u5f90\\\\u5764\": true\\n            },\\n            \"show\": true,\\n            \"padding\": 5,\\n            \"itemGap\": 10,\\n            \"itemWidth\": 25,\\n            \"itemHeight\": 14\\n        }\\n    ],\\n    \"tooltip\": {\\n        \"show\": true,\\n        \"trigger\": \"item\",\\n        \"triggerOn\": \"mousemove|click\",\\n        \"axisPointer\": {\\n            \"type\": \"line\"\\n        },\\n        \"textStyle\": {\\n            \"fontSize\": 14\\n        },\\n        \"borderWidth\": 0\\n    },\\n    \"xAxis\": [\\n        {\\n            \"show\": true,\\n            \"scale\": false,\\n            \"nameLocation\": \"end\",\\n            \"nameGap\": 15,\\n            \"gridIndex\": 0,\\n            \"inverse\": false,\\n            \"offset\": 0,\\n            \"splitNumber\": 5,\\n            \"minInterval\": 0,\\n            \"splitLine\": {\\n                \"show\": false,\\n                \"lineStyle\": {\\n                    \"show\": true,\\n                    \"width\": 1,\\n                    \"opacity\": 1,\\n                    \"curveness\": 0,\\n                    \"type\": \"solid\"\\n                }\\n            },\\n            \"data\": [\\n                \"repost\"\\n            ]\\n        }\\n    ],\\n    \"yAxis\": [\\n        {\\n            \"show\": true,\\n            \"scale\": false,\\n            \"nameLocation\": \"end\",\\n            \"nameGap\": 15,\\n            \"gridIndex\": 0,\\n            \"inverse\": false,\\n            \"offset\": 0,\\n            \"splitNumber\": 5,\\n            \"minInterval\": 0,\\n            \"splitLine\": {\\n                \"show\": false,\\n                \"lineStyle\": {\\n                    \"show\": true,\\n                    \"width\": 1,\\n                    \"opacity\": 1,\\n                    \"curveness\": 0,\\n                    \"type\": \"solid\"\\n                }\\n            }\\n        }\\n    ],\\n    \"title\": [\\n        {\\n            \"text\": \"\\\\u5546\\\\u573a\\\\u9500\\\\u552e\\\\u60c5\\\\u51b5\",\\n            \"padding\": 5,\\n            \"itemGap\": 10\\n        }\\n    ],\\n    \"toolbox\": {\\n        \"show\": true,\\n        \"orient\": \"horizontal\",\\n        \"itemSize\": 15,\\n        \"itemGap\": 10,\\n        \"left\": \"80%\",\\n        \"feature\": {\\n            \"saveAsImage\": {\\n                \"type\": \"png\",\\n                \"backgroundColor\": \"auto\",\\n                \"connectedBackgroundColor\": \"#fff\",\\n                \"show\": true,\\n                \"title\": \"\\\\u4fdd\\\\u5b58\\\\u4e3a\\\\u56fe\\\\u7247\",\\n                \"pixelRatio\": 1\\n            },\\n            \"restore\": {\\n                \"show\": true,\\n                \"title\": \"\\\\u8fd8\\\\u539f\"\\n            },\\n            \"dataView\": {\\n                \"show\": true,\\n                \"title\": \"\\\\u6570\\\\u636e\\\\u89c6\\\\u56fe\",\\n                \"readOnly\": false,\\n                \"lang\": [\\n                    \"\\\\u6570\\\\u636e\\\\u89c6\\\\u56fe\",\\n                    \"\\\\u5173\\\\u95ed\",\\n                    \"\\\\u5237\\\\u65b0\"\\n                ],\\n                \"backgroundColor\": \"#fff\",\\n                \"textareaColor\": \"#fff\",\\n                \"textareaBorderColor\": \"#333\",\\n                \"textColor\": \"#000\",\\n                \"buttonColor\": \"#c23531\",\\n                \"buttonTextColor\": \"#fff\"\\n            },\\n            \"dataZoom\": {\\n                \"show\": true,\\n                \"title\": {\\n                    \"zoom\": \"\\\\u533a\\\\u57df\\\\u7f29\\\\u653e\",\\n                    \"back\": \"\\\\u533a\\\\u57df\\\\u7f29\\\\u653e\\\\u8fd8\\\\u539f\"\\n                },\\n                \"icon\": {}\\n            },\\n            \"magicType\": {\\n                \"show\": true,\\n                \"type\": [\\n                    \"line\",\\n                    \"bar\",\\n                    \"stack\",\\n                    \"tiled\"\\n                ],\\n                \"title\": {\\n                    \"line\": \"\\\\u5207\\\\u6362\\\\u4e3a\\\\u6298\\\\u7ebf\\\\u56fe\",\\n                    \"bar\": \"\\\\u5207\\\\u6362\\\\u4e3a\\\\u67f1\\\\u72b6\\\\u56fe\",\\n                    \"stack\": \"\\\\u5207\\\\u6362\\\\u4e3a\\\\u5806\\\\u53e0\",\\n                    \"tiled\": \"\\\\u5207\\\\u6362\\\\u4e3a\\\\u5e73\\\\u94fa\"\\n                },\\n                \"icon\": {}\\n            },\\n            \"brush\": {\\n                \"icon\": {},\\n                \"title\": {\\n                    \"rect\": \"\\\\u77e9\\\\u5f62\\\\u9009\\\\u62e9\",\\n                    \"polygon\": \"\\\\u5708\\\\u9009\",\\n                    \"lineX\": \"\\\\u6a2a\\\\u5411\\\\u9009\\\\u62e9\",\\n                    \"lineY\": \"\\\\u7eb5\\\\u5411\\\\u9009\\\\u62e9\",\\n                    \"keep\": \"\\\\u4fdd\\\\u6301\\\\u9009\\\\u62e9\",\\n                    \"clear\": \"\\\\u6e05\\\\u9664\\\\u9009\\\\u62e9\"\\n                }\\n            }\\n        }\\n    }\\n};\\n        chart_6736942f5a83422095444085a4ca71a5.setOption(option_6736942f5a83422095444085a4ca71a5);\\n    </script>\\n<br/>    </div>\\n    <script>\\n            $(\\'#02b8e981d79d4927a79ccc8ef77e7e5a\\').css(\\'border-style\\', \\'dashed\\').css(\\'border-width\\', \\'0px\\');$(\"#02b8e981d79d4927a79ccc8ef77e7e5a>div:nth-child(1)\").width(\"100%\").height(\"100%\");\\n            new ResizeSensor(jQuery(\\'#02b8e981d79d4927a79ccc8ef77e7e5a\\'), function() { chart_02b8e981d79d4927a79ccc8ef77e7e5a.resize()});\\n            $(\\'#6736942f5a83422095444085a4ca71a5\\').css(\\'border-style\\', \\'dashed\\').css(\\'border-width\\', \\'0px\\');$(\"#6736942f5a83422095444085a4ca71a5>div:nth-child(1)\").width(\"100%\").height(\"100%\");\\n            new ResizeSensor(jQuery(\\'#6736942f5a83422095444085a4ca71a5\\'), function() { chart_6736942f5a83422095444085a4ca71a5.resize()});\\n            var charts_id = [\\'02b8e981d79d4927a79ccc8ef77e7e5a\\',\\'6736942f5a83422095444085a4ca71a5\\'];\\nfunction downloadCfg () {\\n    const fileName = \\'chart_config.json\\'\\n    let downLink = document.createElement(\\'a\\')\\n    downLink.download = fileName\\n\\n    let result = []\\n    for(let i=0; i<charts_id.length; i++) {\\n        chart = $(\\'#\\'+charts_id[i])\\n        result.push({\\n            cid: charts_id[i],\\n            width: chart.css(\"width\"),\\n            height: chart.css(\"height\"),\\n            top: chart.offset().top + \"px\",\\n            left: chart.offset().left + \"px\"\\n        })\\n    }\\n\\n    let blob = new Blob([JSON.stringify(result)])\\n    downLink.href = URL.createObjectURL(blob)\\n    document.body.appendChild(downLink)\\n    downLink.click()\\n    document.body.removeChild(downLink)\\n}\\n    </script>\\n</body>\\n</html>\\n'"
      ]
     },
     "execution_count": 5,
     "metadata": {},
     "output_type": "execute_result"
    }
   ],
   "source": [
    "page.save_resize_html('render.html',cfg_file='/Users/sue7in/PycharmProjects/Python/charts/chart_config.json',dest='my_new_charts.html')"
   ]
  },
  {
   "cell_type": "code",
   "execution_count": null,
   "metadata": {},
   "outputs": [],
   "source": []
  },
  {
   "cell_type": "code",
   "execution_count": null,
   "metadata": {},
   "outputs": [],
   "source": []
  },
  {
   "cell_type": "code",
   "execution_count": null,
   "metadata": {},
   "outputs": [],
   "source": [
    "from flask import Flask\n",
    "from flask import request\n",
    "app = Flask(__name__)\n",
    "\n",
    "\n",
    "@app.route('/')\n",
    "def index():\n",
    "    user_agent=request.headers.get('User_Agent')\n",
    "    return 'user_agent is %s' %user_agent\n",
    "\n",
    "if __name__ == '__main__':\n",
    "    app.run(\n",
    "      host='0.0.0.0',\n",
    "      port= 5000,\n",
    "      debug=True\n",
    "    )"
   ]
  },
  {
   "cell_type": "code",
   "execution_count": null,
   "metadata": {},
   "outputs": [],
   "source": []
  },
  {
   "cell_type": "code",
   "execution_count": null,
   "metadata": {},
   "outputs": [],
   "source": [
    "from flask import Flask,render_template,url_for\n",
    "\n",
    "#生成Flask实例\n",
    "app = Flask(__name__)\n",
    "@app.route('/')\n",
    "def my_echart():\n",
    "#在浏览器上渲染my_templaces.html模板\n",
    "    return render_template('my_new_charts.html')\n",
    "\n",
    "if __name__ == \"__main__\":\n",
    "    #运行项目\n",
    "    app.run(debug = True)\n"
   ]
  },
  {
   "cell_type": "code",
   "execution_count": null,
   "metadata": {},
   "outputs": [],
   "source": []
  },
  {
   "cell_type": "code",
   "execution_count": null,
   "metadata": {},
   "outputs": [],
   "source": []
  },
  {
   "cell_type": "code",
   "execution_count": null,
   "metadata": {},
   "outputs": [],
   "source": [
    "#pycharts v1.0版本\n",
    "\n",
    "from pyecharts.globals import ThemeType\n",
    "from pyecharts.faker import Faker\n",
    "from pyecharts import options as opts\n",
    "from pyecharts.charts import Bar, Grid, Line, Page, Pie\n",
    "\n",
    "bar=Bar (init_opts=opts.InitOpts(theme=ThemeType.PURPLE_PASSION))\n",
    "bar.add_xaxis(['comments_count','reporst_count','attitudes-count'])\n",
    "bar.add_yaxis('韩寒',[1265,495,3931])\n",
    "bar.add_yaxis('蔡徐坤',[42,159,202])\n",
    "bar.set_global_opts(title_opts=opts.TitleOpts(title='转发反馈统计'),toolbox_opts=opts.ToolboxOpts())\n",
    "bar.render()\n",
    "bar.render_notebook()\n"
   ]
  },
  {
   "cell_type": "code",
   "execution_count": null,
   "metadata": {},
   "outputs": [],
   "source": []
  }
 ],
 "metadata": {
  "kernelspec": {
   "display_name": "Python 3",
   "language": "python",
   "name": "python3"
  },
  "language_info": {
   "codemirror_mode": {
    "name": "ipython",
    "version": 3
   },
   "file_extension": ".py",
   "mimetype": "text/x-python",
   "name": "python",
   "nbconvert_exporter": "python",
   "pygments_lexer": "ipython3",
   "version": "3.7.3"
  }
 },
 "nbformat": 4,
 "nbformat_minor": 2
}
